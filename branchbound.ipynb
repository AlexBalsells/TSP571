{
 "cells": [
  {
   "cell_type": "markdown",
   "id": "71149a4c",
   "metadata": {},
   "source": [
    "## Functions Needed For Branch And Bound\n",
    "Run the next block once"
   ]
  },
  {
   "cell_type": "code",
   "execution_count": 146,
   "id": "26f3eae8",
   "metadata": {},
   "outputs": [],
   "source": [
    "import gurobipy as grb\n",
    "from gurobipy import GRB\n",
    "import pandas as pd\n",
    "import numpy as np\n",
    "import matplotlib.pyplot as plt\n",
    "import networkx as nx\n",
    "from mincut import MinimumCut\n",
    "\n",
    "def get_df(root,INPUT):\n",
    "    filename = root+INPUT\n",
    "    hd = pd.read_csv(filename, delimiter=' ',nrows = 0)\n",
    "\n",
    "    c = 1\n",
    "    colname = list(hd.columns)\n",
    "    ncol = len(colname)\n",
    "    while 'Unnamed' in colname[0]:\n",
    "        hd = pd.read_csv(filename,delimiter=' ',nrows=0, usecols=np.arange(c,ncol))\n",
    "        colname=list(hd.columns)\n",
    "        c+=1\n",
    "\n",
    "    n = int(colname[0])\n",
    "    m = int(colname[1])\n",
    "\n",
    "    df = pd.read_csv(filename,delimiter=' ', names=['End1','End2','Cost'], skiprows=1, index_col=False)\n",
    "\n",
    "    return df,n,m\n",
    "\n",
    "def initialize(df,n,m):\n",
    "    c = np.array(df[\"Cost\"])\n",
    "    Model = grb.Model()\n",
    "    x = Model.addVars(m,obj=c,lb=0.0,ub=1.0,vtype=GRB.CONTINUOUS, name='x')\n",
    "    Model.modelSense = GRB.MINIMIZE\n",
    "\n",
    "    #We can add the basic IO constraints true for EVERY branch\n",
    "    #CONSTRAINTS\n",
    "    #IO each node has exactly two arcs connected to it\n",
    "    N1 = np.array(df[\"End1\"])\n",
    "    N2 = np.array(df[\"End2\"])\n",
    "    for i in range(n):\n",
    "        ind_i1 = np.argwhere(N1 == i)\n",
    "        ind_i1 = np.append(ind_i1, np.argwhere(N2 == i))\n",
    "        Model.addConstr(grb.quicksum(x[e] for e in ind_i1) == 2)\n",
    "    Model.update()\n",
    "    lpname = INPUT.split('.')[0]+\"_init.lp\"\n",
    "    Model.write(lpname)\n",
    "\n",
    "    return Model,x\n",
    "\n",
    "\n",
    "def solve_LP(df,n,m,Model,x):\n",
    "    #print(\"THis is x in LP\", len(x))\n",
    "    Model.optimize()\n",
    "    \n",
    "    if Model.status == 2:\n",
    "        x_lp = np.zeros((m,))\n",
    "        for j in range(m):\n",
    "            x_lp[j] = x[j].x\n",
    "        \n",
    "        min_lp = Model.objVal\n",
    "        return x_lp, min_lp\n",
    "    \n",
    "    elif Model.status == 3:\n",
    "        #Gurobi says LP is infeasible\n",
    "        x_lp = np.zeros((m,))\n",
    "        min_lp = np.inf\n",
    "        return x_lp, min_lp\n",
    "    \n",
    "    else:\n",
    "        print(\"In solve_LP\")\n",
    "        print(\"LP neither optimal nor infeasible\")\n",
    "\n",
    "        \n",
    "def check_if_binary(x_lp):\n",
    "    tol = 1e-9\n",
    "    tmp = (np.abs(x_lp)>tol)&(np.abs(x_lp-1)>tol)\n",
    "    is_binary = np.count_nonzero(tmp) == 0\n",
    "    if is_binary:\n",
    "        return -1\n",
    "    else:\n",
    "        nb_ind = np.argwhere(tmp)\n",
    "        return np.squeeze(nb_ind[0])\n",
    "    \n",
    "    \n",
    "def main_TSP(root,INPUT):\n",
    "    df,n,m = get_df(root,INPUT)\n",
    "    M0,x0 = initialize(df,n,m)\n",
    "    best_cost = np.inf\n",
    "    queque = []\n",
    "    queque.append(M0)\n",
    "    \n",
    "    while len(queque) != 0:\n",
    "        Model = queque.pop(0)\n",
    "        x = Model.getVars()\n",
    "        Model.Params.LogToConsole = 0\n",
    "        x_lp, min_lp = solve_LP(df,n,m,Model,x)\n",
    "        \n",
    "        if sum(x_lp>1) or sum(x_lp<0):\n",
    "            continue\n",
    "        if min_lp >= best_cost or min_lp == np.inf:\n",
    "            continue\n",
    "        if check_if_binary(x_lp) == -1:\n",
    "            #Then x_lp is binary\n",
    "            x_star = x_lp\n",
    "            best_cost = min_lp\n",
    "            Model.write(\"bestmodel.lp\")\n",
    "        else:\n",
    "            nb_ind = check_if_binary(x_lp)\n",
    "            #now create two models with added constraint\n",
    "            #x[nb_ind] == 0 and x[nb_ind] == 1\n",
    "            \n",
    "            M1 = Model.copy()\n",
    "            x = M1.getVars()\n",
    "            M1.addConstr(x[nb_ind] == 0)\n",
    "            \n",
    "            M2 = Model.copy()\n",
    "            x = M2.getVars()\n",
    "            M2.addConstr(x[nb_ind] == 1)\n",
    "            M1.update()\n",
    "            M2.update()\n",
    "            queque.append(M1)\n",
    "            queque.append(M2)\n",
    "    print(\"best_cost = \", best_cost)\n",
    "    return x_star, best_cost,df,n,m\n",
    "\n",
    "def edges_to_nodes(e,df):\n",
    "    return np.squeeze(np.array(df[\"End1\"][e])), np.squeeze(np.array(df[\"End2\"][e]))\n",
    "\n",
    "\n",
    "import networkx as nx\n",
    "def create_G_sol(x_star,df,n,m,INPUT):\n",
    "    N1 = np.array(df[\"End1\"])\n",
    "    N2 = np.array(df[\"End2\"])\n",
    "    G = nx.Graph()\n",
    "    #G.add_nodes_from(range(n))\n",
    "    for i in range(m):\n",
    "        if x_star[i] > 0:\n",
    "            n1,n2 = edges_to_nodes(i,df)\n",
    "            G.add_edge(int(n1),int(n2),weight=x_star[i])\n",
    "            #notice x_star[i] should be 1\n",
    "    nx.draw_shell(G)\n",
    "    plt.title(INPUT)\n",
    "    savefilename = \"./Cities/\" + INPUT.split('.')[0] + \".png\"\n",
    "    plt.savefig(savefilename)\n",
    "    plt.title(INPUT)\n",
    "    plt.show()"
   ]
  },
  {
   "cell_type": "markdown",
   "id": "e6a809cc",
   "metadata": {},
   "source": [
    "# HERE IS WHERE YOU INPUT YOUR DATASET AND RUN THE PROGRAM\n",
    "root is directory where .txt files live"
   ]
  },
  {
   "cell_type": "code",
   "execution_count": 151,
   "id": "70ffa7d6",
   "metadata": {},
   "outputs": [],
   "source": [
    "root = \"./Cities/\"\n",
    "INPUT = \"sh07.csv\""
   ]
  },
  {
   "cell_type": "markdown",
   "id": "66f5cf7a",
   "metadata": {},
   "source": [
    "### Run this block to solve the \"TSP\""
   ]
  },
  {
   "cell_type": "code",
   "execution_count": 152,
   "id": "e220175c",
   "metadata": {},
   "outputs": [
    {
     "name": "stdout",
     "output_type": "stream",
     "text": [
      "best_cost =  106.4\n"
     ]
    }
   ],
   "source": [
    "x, val, df,n,m= main_TSP(root,INPUT)"
   ]
  },
  {
   "cell_type": "markdown",
   "id": "2283356f",
   "metadata": {},
   "source": [
    "### Run this block to visualize the solution"
   ]
  },
  {
   "cell_type": "code",
   "execution_count": 153,
   "id": "97514c79",
   "metadata": {},
   "outputs": [
    {
     "data": {
      "image/png": "[encoded data removed]",
      "text/plain": [
       "<Figure size 432x288 with 1 Axes>"
      ]
     },
     "metadata": {},
     "output_type": "display_data"
    }
   ],
   "source": [
    "create_G_sol(x,df,n,m, INPUT)"
   ]
  },
  {
   "cell_type": "code",
   "execution_count": null,
   "id": "8477c035",
   "metadata": {},
   "outputs": [],
   "source": []
  }
 ],
 "metadata": {
  "kernelspec": {
   "display_name": "Python 3",
   "language": "python",
   "name": "python3"
  },
  "language_info": {
   "codemirror_mode": {
    "name": "ipython",
    "version": 3
   },
   "file_extension": ".py",
   "mimetype": "text/x-python",
   "name": "python",
   "nbconvert_exporter": "python",
   "pygments_lexer": "ipython3",
   "version": "3.8.8"
  }
 },
 "nbformat": 4,
 "nbformat_minor": 5
}
